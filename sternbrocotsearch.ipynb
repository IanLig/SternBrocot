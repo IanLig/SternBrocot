{
  "nbformat": 4,
  "nbformat_minor": 0,
  "metadata": {
    "colab": {
      "provenance": []
    },
    "kernelspec": {
      "name": "python3",
      "display_name": "Python 3"
    },
    "language_info": {
      "name": "python"
    }
  },
  "cells": [
    {
      "cell_type": "markdown",
      "source": [
        "# Welcome\n",
        "\n",
        "Here's a little interactive to see how powerful the Stern-Brocot series is. Don't worry, you can use this without knowing any code. \\\\\n",
        "\n",
        "## Calculating Values in the Sequence\n",
        "\n",
        "To get started, lets try calculating some values in the sequence.\n",
        "Click the play button right below \\\\\n",
        "\n",
        "It might take the runtime just a second to get started when you click play.\n",
        " \\\\\n",
        " \\| \\\\\n",
        " \\| \\\\\n",
        " v\n"
      ],
      "metadata": {
        "id": "XhoJN238WtpA"
      }
    },
    {
      "cell_type": "code",
      "source": [
        "prev_vals = {0:1, 1:1}\n",
        "\n",
        "def stern_brocot(n):\n",
        "  val = prev_vals.get(n)\n",
        "  if val:\n",
        "    return val\n",
        "  else:\n",
        "    if n % 2 == 0:\n",
        "      val = stern_brocot(n//2)\n",
        "    else:\n",
        "      val = stern_brocot((n-1)//2) + stern_brocot((n+1)//2)\n",
        "    prev_vals[n] = val\n",
        "    return val\n",
        "\n",
        "while True:\n",
        "  print('\\n\\nWhich Stern-Brocot number would you like?')\n",
        "  n = int(input())\n",
        "  print('S(' + str(n) + ') =', stern_brocot(n))\n",
        "  print('\\nWould you like another? (y/n)')\n",
        "  if input() in {'n', 'N', 'no', 'NO', 'nO', 'No'}:\n",
        "    break"
      ],
      "metadata": {
        "colab": {
          "base_uri": "https://localhost:8080/"
        },
        "id": "TW0y7cRjQ-ex",
        "outputId": "1bfd7f7e-eb53-4a88-a9ba-7094c559a229"
      },
      "execution_count": null,
      "outputs": [
        {
          "name": "stdout",
          "output_type": "stream",
          "text": [
            "\n",
            "\n",
            "Which Stern-Brocot number would you like?\n",
            "45\n",
            "S(45) = 12\n",
            "\n",
            "Would you like another? (y/n)\n",
            "y\n",
            "\n",
            "\n",
            "Which Stern-Brocot number would you like?\n",
            "4358973\n",
            "S(4358973) = 5044\n",
            "\n",
            "Would you like another? (y/n)\n",
            "4096\n",
            "\n",
            "\n",
            "Which Stern-Brocot number would you like?\n",
            "4096\n",
            "S(4096) = 1\n",
            "\n",
            "Would you like another? (y/n)\n",
            "n\n"
          ]
        }
      ]
    },
    {
      "cell_type": "markdown",
      "source": [
        "### Now for the fun part\n",
        "\n",
        "## Finding rational approximations\n",
        "\n",
        "We can use the Stern-Brocot sequence to find rational approximations for real numbers. Try running this one and enterring a positive decimal number to find a fraction approximation!"
      ],
      "metadata": {
        "id": "IhX5H2RwYiiK"
      }
    },
    {
      "cell_type": "code",
      "execution_count": null,
      "metadata": {
        "colab": {
          "base_uri": "https://localhost:8080/"
        },
        "id": "CAexZcTJILoh",
        "outputId": "db1bedd0-3e6a-41d1-f42b-43f91948d22e"
      },
      "outputs": [
        {
          "name": "stdout",
          "output_type": "stream",
          "text": [
            "Let's find rational approximations for any (positive) real number!\n",
            "\n",
            "\n",
            "Which real number would you like?\n",
            "3.1415926535\n",
            "\n",
            "What's the largest denominator you'd like to allow?\n",
            "250000\n",
            "\n",
            "\n",
            "729371 / 232166 =\n",
            "\t\t 3.141592653532386\n",
            "\n",
            "\n",
            "Would you like another? (y/n)\n",
            "n\n"
          ]
        }
      ],
      "source": [
        "if locals().get('prev_vals', globals().get('prev_vals')) is None:\n",
        "  prev_vals = {0:1, 1:1}\n",
        "\n",
        "def stern_brocot(n):\n",
        "  val = prev_vals.get(n)\n",
        "  if val:\n",
        "    return val\n",
        "  else:\n",
        "    if n % 2 == 0:\n",
        "      val = stern_brocot(n//2)\n",
        "    else:\n",
        "      val = stern_brocot((n-1)//2) + stern_brocot((n+1)//2)\n",
        "    prev_vals[n] = val\n",
        "    return val\n",
        "\n",
        "print(\"Let's find rational approximations for any (positive) real number!\")\n",
        "while True:\n",
        "  print('\\n\\nWhich real number would you like?')\n",
        "  inp = input()\n",
        "\n",
        "  while not inp.replace('.', '', 1).isnumeric():\n",
        "    print('Please enter a number.')\n",
        "    inp = input()\n",
        "\n",
        "  x = float(inp)\n",
        "\n",
        "  print(\"\\nWhat's the largest denominator you'd like to allow?\")\n",
        "  inp = input()\n",
        "\n",
        "  while not inp.isnumeric():\n",
        "    print('Please enter an integer.')\n",
        "    inp = input()\n",
        "\n",
        "  max_denom = int(inp)\n",
        "\n",
        "  print('\\n')\n",
        "\n",
        "  curr_node = 1\n",
        "  sequence_index = 1\n",
        "  sequence_index_b = '1'\n",
        "  s_n = 1\n",
        "  s_n_1 = 1\n",
        "  denom = 1\n",
        "\n",
        "  while denom < max_denom:\n",
        "    if x < curr_node:\n",
        "      sequence_index_b = sequence_index_b[0] + '0' + sequence_index_b[1:]\n",
        "      sequence_index = int(sequence_index_b, 2)\n",
        "      denom = stern_brocot(sequence_index + 1)\n",
        "      if denom > max_denom:\n",
        "        break\n",
        "      s_n = stern_brocot(sequence_index)\n",
        "      s_n_1 = denom\n",
        "      curr_node = s_n / s_n_1\n",
        "    elif x > curr_node:\n",
        "      sequence_index_b = sequence_index_b[0] + '1' + sequence_index_b[1:]\n",
        "      sequence_index = int(sequence_index_b, 2)\n",
        "      denom = stern_brocot(sequence_index + 1)\n",
        "      if denom > max_denom:\n",
        "        break\n",
        "      s_n = stern_brocot(sequence_index)\n",
        "      s_n_1 = denom\n",
        "      curr_node = s_n / s_n_1\n",
        "\n",
        "  print(s_n, '/', s_n_1, '=\\n\\t\\t', curr_node)\n",
        "\n",
        "  print('\\n\\nWould you like another? (y/n)')\n",
        "  if input() in {'n', 'N', 'no', 'NO', 'nO', 'No'}:\n",
        "    break"
      ]
    }
  ]
}